{
 "cells": [
  {
   "cell_type": "code",
   "execution_count": 2,
   "metadata": {},
   "outputs": [],
   "source": [
    "\n",
    "import numpy as np\n",
    "import h5py\n",
    "import matplotlib.pyplot as plt\n",
    "\n"
   ]
  },
  {
   "cell_type": "code",
   "execution_count": 24,
   "metadata": {},
   "outputs": [],
   "source": [
    "save_dir = 'F:/copy/eqt_on_DiTing_DLC-master/eqt_on_DiTing_DLC-master-f3be5eb99ea42ce1cb1c6c53d728dbb47081db73/EQT_on_DiTing/data_converted'"
   ]
  },
  {
   "cell_type": "markdown",
   "metadata": {},
   "source": [
    "从QJ的每个hdf5文件中获取一个test.npy，包含要预测的ID"
   ]
  },
  {
   "cell_type": "code",
   "execution_count": 3,
   "metadata": {},
   "outputs": [
    {
     "name": "stdout",
     "output_type": "stream",
     "text": [
      "earthquake\n"
     ]
    },
    {
     "data": {
      "text/plain": [
       "<HDF5 group \"/earthquake\" (87200 members)>"
      ]
     },
     "execution_count": 3,
     "metadata": {},
     "output_type": "execute_result"
    }
   ],
   "source": [
    "def list_hdf5_groups(hdf5_file):\n",
    "    \"\"\" list of group names of hdf5 file\"\"\"\n",
    "\n",
    "    group_list = []\n",
    "    def print_name(name):\n",
    "        group_list.append(name)\n",
    "        \n",
    "    \n",
    "    # 使用visit方法遍历文件中的所有对象\n",
    "    hdf5_file.visit(print_name)\n",
    "    return group_list\n",
    "\n",
    "input_hdf5 = 'g:/云南巧家宽频带数据/hdf5_merged/QJ02.hdf5'\n",
    "fl = h5py.File(input_hdf5, 'r')   \n",
    "prediction_list = list_hdf5_groups(fl)[1:] # delete 'earthquake'\n",
    "print(prediction_list[0])\n",
    "#np.save(save_dir+'/testofQJ02', prediction_list )\n",
    "fl.get(str(prediction_list[0]))"
   ]
  },
  {
   "cell_type": "code",
   "execution_count": 25,
   "metadata": {},
   "outputs": [
    {
     "name": "stdout",
     "output_type": "stream",
     "text": [
      "0_392\n"
     ]
    }
   ],
   "source": [
    "\n",
    "DiTing2_hdf5 = \"g:/DiTing2.0/diting2.0_publish_desensitization_cenc/DiTing_2020_2021_desensitization.hdf5\"\n",
    "fl = h5py.File(DiTing2_hdf5, 'r')   \n",
    "prediction_list = list_hdf5_groups(fl) \n",
    "print(prediction_list[0])\n",
    "\n",
    "np.save(save_dir+'/testofDT2', prediction_list )\n",
    "fl.get(str(prediction_list))"
   ]
  },
  {
   "cell_type": "code",
   "execution_count": 5,
   "metadata": {},
   "outputs": [
    {
     "name": "stdout",
     "output_type": "stream",
     "text": [
      "['earthquake/QJ.QJ02.20220823.090001' 'earthquake/QJ.QJ02.20220823.090002'\n",
      " 'earthquake/QJ.QJ02.20220823.090003' 'earthquake/QJ.QJ02.20220823.090004'\n",
      " 'earthquake/QJ.QJ02.20220823.090005' 'earthquake/QJ.QJ02.20220823.090006'\n",
      " 'earthquake/QJ.QJ02.20220823.100001' 'earthquake/QJ.QJ02.20220823.100002'\n",
      " 'earthquake/QJ.QJ02.20220823.100003' 'earthquake/QJ.QJ02.20220823.100004']\n"
     ]
    }
   ],
   "source": [
    "test = np.load('F:/copy/eqt_on_DiTing_DLC-master/eqt_on_DiTing_DLC-master-f3be5eb99ea42ce1cb1c6c53d728dbb47081db73/EQT_on_DiTing/data_converted/testofQJ02.npy') \n",
    "print(test[:10])"
   ]
  },
  {
   "cell_type": "code",
   "execution_count": 8,
   "metadata": {},
   "outputs": [
    {
     "name": "stdout",
     "output_type": "stream",
     "text": [
      "['123588.0061' '124184.0115' '151775.0213' '151073.0260' '131401.0007'\n",
      " '137527.0555' '133575.0278' '122784.0116' '118028.0278' '132498.0306']\n"
     ]
    }
   ],
   "source": [
    "test3 = np.load('F:/copy/eqt_on_DiTing_DLC-master/eqt_on_DiTing_DLC-master-f3be5eb99ea42ce1cb1c6c53d728dbb47081db73/EQT_on_DiTing/test_trainer_outputs_27/test3.npy')\n",
    "print(test3[:10])"
   ]
  },
  {
   "cell_type": "code",
   "execution_count": 28,
   "metadata": {},
   "outputs": [
    {
     "name": "stdout",
     "output_type": "stream",
     "text": [
      "['0_392' '0_942' '100000_233' '100000_384' '100000_574' '100000_584'\n",
      " '100000_588' '100000_662' '100000_670' '100001_1020']\n"
     ]
    },
    {
     "data": {
      "text/plain": [
       "<HDF5 dataset \"0_392\": shape (20000, 3), type \"<i4\">"
      ]
     },
     "execution_count": 28,
     "metadata": {},
     "output_type": "execute_result"
    }
   ],
   "source": [
    "test_DT2 = np.load('F:/copy/eqt_on_DiTing_DLC-master/eqt_on_DiTing_DLC-master-f3be5eb99ea42ce1cb1c6c53d728dbb47081db73/EQT_on_DiTing/data_converted/testofDT2.npy') \n",
    "print(test_DT2[:10])\n",
    "fl.get(str('0_392'))"
   ]
  }
 ],
 "metadata": {
  "kernelspec": {
   "display_name": "eqtransformer",
   "language": "python",
   "name": "python3"
  },
  "language_info": {
   "codemirror_mode": {
    "name": "ipython",
    "version": 3
   },
   "file_extension": ".py",
   "mimetype": "text/x-python",
   "name": "python",
   "nbconvert_exporter": "python",
   "pygments_lexer": "ipython3",
   "version": "3.7.1"
  }
 },
 "nbformat": 4,
 "nbformat_minor": 2
}
