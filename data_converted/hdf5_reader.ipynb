{
 "cells": [
  {
   "cell_type": "markdown",
   "metadata": {},
   "source": [
    "## Read Hdf5 files and plot waveforms"
   ]
  },
  {
   "cell_type": "markdown",
   "metadata": {},
   "source": [
    "### Read h5 file with labelings"
   ]
  },
  {
   "cell_type": "code",
   "execution_count": null,
   "metadata": {
    "vscode": {
     "languageId": "plaintext"
    }
   },
   "outputs": [],
   "source": [
    "\n",
    "import h5py\n",
    "import matplotlib.pyplot as plt\n",
    "#import ipdb\n",
    "import numpy as np\n",
    "import pandas as pd\n",
    "import os\n",
    "\n",
    "\n",
    "\n",
    "# 定义函数用于从 HDF5 文件中读取数据\n",
    "def read_hdf5_file(file_path, dataset_name):\n",
    "    with h5py.File(file_path, 'r') as hdf5_file:\n",
    "        #data = hdf5_file[dataset_name][()]\n",
    "        #ipdb.set_trace()\n",
    "        dataset = hdf5_file.get(str(dataset_name))\n",
    "        data = np.array(dataset)\n",
    "    return data\n",
    "\n",
    "# 示例 HDF5 文件路径和数据集名称\n",
    "file_path = 'h:/DiTing330km_part_0.hdf5'\n",
    "csv_file = pd.read_csv('h:/DiTing330km_part_0.csv', dtype={'key':str})\n",
    "key = csv_file.key\n",
    "#print(key)\n",
    "meta_dataset = csv_file.loc[key=='036200.0066']\n",
    "meta_data = np.array(meta_dataset)\n",
    "print(meta_data)\n",
    "dataset_name = 'earthquake/036200.0066'  # 例如，要读取的数据集名称\n",
    "\n",
    "try:\n",
    "    spt = int((meta_dataset['p_pick']+30)*100); # 100HZ\n",
    "    print('spt in potter:{}'.format(spt))\n",
    "except Exception:     \n",
    "    spt = None\n",
    "                        \n",
    "try:\n",
    "    sst = int((meta_dataset['s_pick']+30)*100);\n",
    "    print('sst in plotter:{}'.format(sst))\n",
    "except Exception:     \n",
    "    sst = None\n",
    "\n",
    "# 读取数据集\n",
    "waveform_data = read_hdf5_file(file_path, dataset_name)\n",
    "print(waveform_data.shape)\n",
    "# 绘制波形图\n",
    "fig = plt.figure(figsize=(10, 1.8))\n",
    "plt.plot(waveform_data[:,0],  color='#1f77b4')\n",
    "plt.title(str(dataset_name))\n",
    "pl = plt.axvline(int(spt),color='#9B59B6', alpha=0.9,linestyle='-', linewidth=2, label='Manual_P_Arrival')\n",
    "    \n",
    "            #pl = plt.vlines(int(spt), ymin, ymax, color='b', linewidth=2, label='Auto_P_Arrival')\n",
    "            \n",
    "        # if dataset.attrs['s_status'] == 'manual':\n",
    "sl = plt.axvline(int(sst), color='#2ca02c', alpha=0.9, linestyle='-', linewidth=2, label='Manual_S_Arrival')\n",
    "    \n",
    "if pl or sl:    \n",
    "    plt.legend(loc = 'upper right', fontsize=9, borderaxespad=0.) \n",
    "\n",
    "plt.grid(False)\n",
    "#plt.show()\n",
    "#fig.savefig(\"C:/Users/DELL/Desktop/论文中英文v3/\"+'2000s.svg')"
   ]
  },
  {
   "cell_type": "markdown",
   "metadata": {},
   "source": [
    "### Plot waveforms "
   ]
  },
  {
   "cell_type": "code",
   "execution_count": null,
   "metadata": {
    "vscode": {
     "languageId": "plaintext"
    }
   },
   "outputs": [],
   "source": [
    "import h5py\n",
    "import matplotlib.pyplot as plt\n",
    "#import ipdb\n",
    "import numpy as np\n",
    "import pandas as pd\n",
    "import os\n",
    "\n",
    "\n",
    "\n",
    "# 定义函数用于从 HDF5 文件中读取数据\n",
    "def read_hdf5_file(file_name):\n",
    "    with h5py.File(file_name, 'r') as hdf5_file:\n",
    "        #data = hdf5_file[dataset_name][()]\n",
    "        #ipdb.set_trace()\n",
    "        group_name = hdf5_file.keys()\n",
    "        print(group_name)\n",
    "        dataset = hdf5_file[group_name]\n",
    "        data = np.array(dataset)\n",
    "    return data\n",
    "\n",
    "\n",
    "file_path = '\"D:/Internet Explorer/downloads/tp_352×240.h5\"'\n",
    "# 读取数据集\n",
    "waveform_data = read_hdf5_file(file_path)\n",
    "print(waveform_data.shape)\n",
    "# 绘制波形图\n",
    "fig = plt.figure(figsize=(10, 1.8))\n",
    "plt.plot(waveform_data[:,0],  color='#1f77b4')\n",
    "plt.show()"
   ]
  },
  {
   "cell_type": "markdown",
   "metadata": {},
   "source": [
    "### visit keys in h5 files"
   ]
  },
  {
   "cell_type": "code",
   "execution_count": null,
   "metadata": {
    "vscode": {
     "languageId": "plaintext"
    }
   },
   "outputs": [],
   "source": [
    "import h5py\n",
    "import numpy as np\n",
    "\n",
    "def list_hdf5_groups(hdf5_file):\n",
    "    \"\"\" list of group names of hdf5 file\"\"\"\n",
    "\n",
    "    wave_ids = []\n",
    "\n",
    "\n",
    "    group_list = hdf5_file['earthquake'].keys()\n",
    "\n",
    "    for wave_id in group_list:\n",
    "        wave_ids.append(wave_id)\n",
    "    return wave_ids\n",
    "fl = h5py.File(\"G:/云南巧家宽频带数据/denoised_h5/QJ01202208_denoised.hdf5\", 'r')\n",
    "prediction_list = list_hdf5_groups(fl)\n",
    "print(prediction_list)"
   ]
  },
  {
   "cell_type": "code",
   "execution_count": null,
   "metadata": {
    "vscode": {
     "languageId": "plaintext"
    }
   },
   "outputs": [],
   "source": []
  }
 ],
 "metadata": {
  "language_info": {
   "name": "python"
  }
 },
 "nbformat": 4,
 "nbformat_minor": 2
}
